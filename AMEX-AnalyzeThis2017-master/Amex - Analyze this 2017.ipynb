{
 "cells": [
  {
   "cell_type": "markdown",
   "metadata": {
    "collapsed": true,
    "deletable": true,
    "editable": true
   },
   "source": [
    "# Amex - Analyze this 2017"
   ]
  },
  {
   "cell_type": "code",
   "execution_count": 1,
   "metadata": {
    "collapsed": false,
    "deletable": true,
    "editable": true
   },
   "outputs": [],
   "source": [
    "# Initial imports\n",
    "import pandas as pd\n",
    "import matplotlib.pyplot as plt\n",
    "%matplotlib inline\n",
    "import seaborn as sns\n",
    "import numpy as np\n",
    "import random\n",
    "from sklearn.decomposition import PCA\n",
    "\n",
    "import datetime\n",
    "import warnings\n",
    "warnings.filterwarnings('ignore')\n",
    "\n",
    "from scipy.stats import boxcox\n",
    "\n",
    "random.seed(3)\n",
    "\n",
    "# Imports for better visualization\n",
    "from matplotlib import rcParams\n",
    "#colorbrewer2 Dark2 qualitative color table\n",
    "dark2_colors = [(0.10588235294117647, 0.6196078431372549, 0.4666666666666667),\n",
    "                (0.8509803921568627, 0.37254901960784315, 0.00784313725490196),\n",
    "                (0.4588235294117647, 0.4392156862745098, 0.7019607843137254),\n",
    "                (0.9058823529411765, 0.1607843137254902, 0.5411764705882353),\n",
    "                (0.4, 0.6509803921568628, 0.11764705882352941),\n",
    "                (0.9019607843137255, 0.6705882352941176, 0.00784313725490196),\n",
    "                (0.6509803921568628, 0.4627450980392157, 0.11372549019607843)]\n",
    "\n",
    "rcParams['figure.figsize'] = (8, 3)\n",
    "rcParams['figure.dpi'] = 150\n",
    "rcParams['axes.color_cycle'] = dark2_colors\n",
    "rcParams['lines.linewidth'] = 2\n",
    "rcParams['font.size'] = 14\n",
    "rcParams['patch.edgecolor'] = 'white'\n",
    "rcParams['patch.facecolor'] = dark2_colors[0]\n",
    "rcParams['font.family'] = 'StixGeneral'\n",
    "rcParams['axes.grid'] = True\n",
    "rcParams['axes.facecolor'] = '#eeeeee'"
   ]
  },
  {
   "cell_type": "markdown",
   "metadata": {
    "deletable": true,
    "editable": true
   },
   "source": [
    "## Input data "
   ]
  },
  {
   "cell_type": "code",
   "execution_count": 2,
   "metadata": {
    "collapsed": true,
    "deletable": true,
    "editable": true
   },
   "outputs": [],
   "source": [
    "# Importing the data \n",
    "train=pd.read_csv(\"Modified_Training_Dataset.csv\")\n",
    "test=pd.read_csv(\"Modified_Leaderboard_Dataset.csv\")"
   ]
  },
  {
   "cell_type": "code",
   "execution_count": 3,
   "metadata": {
    "collapsed": false,
    "deletable": true,
    "editable": true
   },
   "outputs": [
    {
     "data": {
      "text/plain": [
       "(40000, 52)"
      ]
     },
     "execution_count": 3,
     "metadata": {},
     "output_type": "execute_result"
    }
   ],
   "source": [
    "train.shape"
   ]
  },
  {
   "cell_type": "code",
   "execution_count": 4,
   "metadata": {
    "collapsed": false,
    "deletable": true,
    "editable": true
   },
   "outputs": [
    {
     "data": {
      "text/html": [
       "<div>\n",
       "<table border=\"1\" class=\"dataframe\">\n",
       "  <thead>\n",
       "    <tr style=\"text-align: right;\">\n",
       "      <th></th>\n",
       "      <th>cm_key</th>\n",
       "      <th>mvar1</th>\n",
       "      <th>mvar2</th>\n",
       "      <th>mvar3</th>\n",
       "      <th>mvar4</th>\n",
       "      <th>mvar5</th>\n",
       "      <th>mvar6</th>\n",
       "      <th>mvar7</th>\n",
       "      <th>mvar8</th>\n",
       "      <th>mvar9</th>\n",
       "      <th>...</th>\n",
       "      <th>mvar42</th>\n",
       "      <th>mvar43</th>\n",
       "      <th>mvar44</th>\n",
       "      <th>mvar45</th>\n",
       "      <th>mvar46</th>\n",
       "      <th>mvar47</th>\n",
       "      <th>mvar48</th>\n",
       "      <th>mvar49</th>\n",
       "      <th>mvar50</th>\n",
       "      <th>mvar51</th>\n",
       "    </tr>\n",
       "  </thead>\n",
       "  <tbody>\n",
       "    <tr>\n",
       "      <th>0</th>\n",
       "      <td>1</td>\n",
       "      <td>Charge</td>\n",
       "      <td>0</td>\n",
       "      <td>106920</td>\n",
       "      <td>4</td>\n",
       "      <td>18</td>\n",
       "      <td>970</td>\n",
       "      <td>0.7969</td>\n",
       "      <td>0.1831</td>\n",
       "      <td>337236</td>\n",
       "      <td>...</td>\n",
       "      <td>0</td>\n",
       "      <td>0</td>\n",
       "      <td>0</td>\n",
       "      <td>0</td>\n",
       "      <td>0</td>\n",
       "      <td>0</td>\n",
       "      <td>1</td>\n",
       "      <td>0</td>\n",
       "      <td>0</td>\n",
       "      <td>0</td>\n",
       "    </tr>\n",
       "    <tr>\n",
       "      <th>1</th>\n",
       "      <td>2</td>\n",
       "      <td>Charge</td>\n",
       "      <td>2</td>\n",
       "      <td>0</td>\n",
       "      <td>4</td>\n",
       "      <td>19</td>\n",
       "      <td>1030</td>\n",
       "      <td>0.0678</td>\n",
       "      <td>0.0000</td>\n",
       "      <td>2918974</td>\n",
       "      <td>...</td>\n",
       "      <td>0</td>\n",
       "      <td>0</td>\n",
       "      <td>0</td>\n",
       "      <td>0</td>\n",
       "      <td>1</td>\n",
       "      <td>0</td>\n",
       "      <td>0</td>\n",
       "      <td>0</td>\n",
       "      <td>0</td>\n",
       "      <td>0</td>\n",
       "    </tr>\n",
       "    <tr>\n",
       "      <th>2</th>\n",
       "      <td>3</td>\n",
       "      <td>Charge</td>\n",
       "      <td>2</td>\n",
       "      <td>399168</td>\n",
       "      <td>4</td>\n",
       "      <td>35</td>\n",
       "      <td>327</td>\n",
       "      <td>0.7551</td>\n",
       "      <td>0.2986</td>\n",
       "      <td>498656</td>\n",
       "      <td>...</td>\n",
       "      <td>0</td>\n",
       "      <td>0</td>\n",
       "      <td>0</td>\n",
       "      <td>0</td>\n",
       "      <td>0</td>\n",
       "      <td>0</td>\n",
       "      <td>1</td>\n",
       "      <td>0</td>\n",
       "      <td>0</td>\n",
       "      <td>0</td>\n",
       "    </tr>\n",
       "    <tr>\n",
       "      <th>3</th>\n",
       "      <td>4</td>\n",
       "      <td>Charge</td>\n",
       "      <td>0</td>\n",
       "      <td>267300</td>\n",
       "      <td>4</td>\n",
       "      <td>274</td>\n",
       "      <td>1258</td>\n",
       "      <td>0.7969</td>\n",
       "      <td>0.5297</td>\n",
       "      <td>2480074</td>\n",
       "      <td>...</td>\n",
       "      <td>0</td>\n",
       "      <td>1</td>\n",
       "      <td>0</td>\n",
       "      <td>0</td>\n",
       "      <td>0</td>\n",
       "      <td>0</td>\n",
       "      <td>1</td>\n",
       "      <td>0</td>\n",
       "      <td>0</td>\n",
       "      <td>1</td>\n",
       "    </tr>\n",
       "    <tr>\n",
       "      <th>4</th>\n",
       "      <td>5</td>\n",
       "      <td>Charge</td>\n",
       "      <td>0</td>\n",
       "      <td>213840</td>\n",
       "      <td>6</td>\n",
       "      <td>1</td>\n",
       "      <td>0</td>\n",
       "      <td>2.3238</td>\n",
       "      <td>0.0000</td>\n",
       "      <td>2918974</td>\n",
       "      <td>...</td>\n",
       "      <td>0</td>\n",
       "      <td>0</td>\n",
       "      <td>0</td>\n",
       "      <td>0</td>\n",
       "      <td>1</td>\n",
       "      <td>0</td>\n",
       "      <td>0</td>\n",
       "      <td>1</td>\n",
       "      <td>0</td>\n",
       "      <td>0</td>\n",
       "    </tr>\n",
       "  </tbody>\n",
       "</table>\n",
       "<p>5 rows × 52 columns</p>\n",
       "</div>"
      ],
      "text/plain": [
       "   cm_key         mvar1  mvar2   mvar3  mvar4  mvar5  mvar6   mvar7   mvar8  \\\n",
       "0       1  Charge            0  106920      4     18    970  0.7969  0.1831   \n",
       "1       2  Charge            2       0      4     19   1030  0.0678  0.0000   \n",
       "2       3  Charge            2  399168      4     35    327  0.7551  0.2986   \n",
       "3       4  Charge            0  267300      4    274   1258  0.7969  0.5297   \n",
       "4       5  Charge            0  213840      6      1      0  2.3238  0.0000   \n",
       "\n",
       "     mvar9   ...    mvar42  mvar43 mvar44  mvar45  mvar46  mvar47  mvar48  \\\n",
       "0   337236   ...         0       0      0       0       0       0       1   \n",
       "1  2918974   ...         0       0      0       0       1       0       0   \n",
       "2   498656   ...         0       0      0       0       0       0       1   \n",
       "3  2480074   ...         0       1      0       0       0       0       1   \n",
       "4  2918974   ...         0       0      0       0       1       0       0   \n",
       "\n",
       "   mvar49  mvar50  mvar51  \n",
       "0       0       0       0  \n",
       "1       0       0       0  \n",
       "2       0       0       0  \n",
       "3       0       0       1  \n",
       "4       1       0       0  \n",
       "\n",
       "[5 rows x 52 columns]"
      ]
     },
     "execution_count": 4,
     "metadata": {},
     "output_type": "execute_result"
    }
   ],
   "source": [
    "train.head()"
   ]
  },
  {
   "cell_type": "code",
   "execution_count": 5,
   "metadata": {
    "collapsed": true,
    "deletable": true,
    "editable": true
   },
   "outputs": [],
   "source": [
    "data=pd.concat([train, test])"
   ]
  },
  {
   "cell_type": "markdown",
   "metadata": {
    "deletable": true,
    "editable": true
   },
   "source": [
    "## Preprocessing & Feature engineering"
   ]
  },
  {
   "cell_type": "code",
   "execution_count": 6,
   "metadata": {
    "collapsed": true,
    "deletable": true,
    "editable": true
   },
   "outputs": [],
   "source": [
    "# Missing values in mvar3 were imputed with median after grouping down the data according to Family size.\n",
    "data[\"mvar3\"][data.mvar3 == 0] = np.nan\n",
    "data[\"mvar3\"] = data.groupby(\"mvar2\").mvar3.transform(lambda x: x.fillna(x.median()))"
   ]
  },
  {
   "cell_type": "code",
   "execution_count": 7,
   "metadata": {
    "collapsed": true,
    "deletable": true,
    "editable": true
   },
   "outputs": [],
   "source": [
    "# Dataset contains many variables which are very skewed so those variables were normalized using box-cox transformations\n",
    "# Upper cap is set to 99 percentile of its value\n",
    "# Boosting model tend to perform poorly when values of single type occur many times in a single columns\n",
    "# so to compensate that random noise was also added to continuous features.\n",
    "\n",
    "skewed = [\"mvar3\", \"mvar9\", \n",
    "          \"mvar16\", \"mvar17\", \"mvar18\", \"mvar19\",\n",
    "          \"mvar20\", \"mvar21\", \"mvar22\", \"mvar23\",\n",
    "          \"mvar24\", \"mvar25\", \"mvar26\", \"mvar27\",\n",
    "          \"mvar28\", \"mvar29\", \"mvar30\", \"mvar31\",\n",
    "          \"mvar32\", \"mvar33\", \"mvar34\", \"mvar35\",\n",
    "          \"mvar36\", \"mvar37\", \"mvar38\", \"mvar39\"]\n",
    "\n",
    "def normalizing(X):\n",
    "    data[X][data[X] < 0]=0\n",
    "    data[X][data[X] > data[X].quantile(0.99)] = data[X].quantile(0.99)\n",
    "    data[X] = data[X].apply(lambda x: x+np.random.rand())\n",
    "    \n",
    "    data[X] = data[X].apply(lambda x: x+1)\n",
    "    data[X], _ = boxcox(data[X])\n",
    "\n",
    "for i in skewed:\n",
    "    normalizing(i)"
   ]
  },
  {
   "cell_type": "code",
   "execution_count": 8,
   "metadata": {
    "collapsed": true,
    "deletable": true,
    "editable": true
   },
   "outputs": [],
   "source": [
    "# Feature engineering\n",
    "\n",
    "data['electronics'] =  data.mvar16 + data.mvar17 + data.mvar18 + data.mvar19 \n",
    "data['travel'] =  data.mvar21 + data.mvar22 + data.mvar23 + data.mvar20 \n",
    "data['household'] =  data.mvar25 + data.mvar26 + data.mvar27 + data.mvar24\n",
    "data['car'] =  data.mvar29 + data.mvar30 + data.mvar31 + data.mvar28\n",
    "data['retail'] =  data.mvar33 + data.mvar34 + data.mvar35 + data.mvar32\n",
    "data['total'] =  data.mvar36 + data.mvar37 + data.mvar38 + data.mvar39 \n",
    "\n",
    "data['per_supp'] = data.mvar43/ data.mvar40\n",
    "data['per_elite'] = data.mvar44/ data.mvar41\n",
    "data['per_credit'] = data.mvar45/ data.mvar42\n"
   ]
  },
  {
   "cell_type": "code",
   "execution_count": 9,
   "metadata": {
    "collapsed": true,
    "deletable": true,
    "editable": true
   },
   "outputs": [],
   "source": [
    "# For family size >= 4, supp card is preferred\n",
    "data['mvar2_flag'] = 0\n",
    "data['mvar2_flag'][data.mvar2 >= 4] = 1\n",
    "\n",
    "# If Number of club memberships >= 2--> High chances of getting card\n",
    "data['mvar14_flag'] = 0\n",
    "data['mvar14_flag'][data.mvar14 >= 2] = 1"
   ]
  },
  {
   "cell_type": "code",
   "execution_count": 10,
   "metadata": {
    "collapsed": true,
    "deletable": true,
    "editable": true
   },
   "outputs": [],
   "source": [
    "data['total_internal_score'] = data.mvar7 + data.mvar8 + data.mvar11/7\n",
    "data['total_club_memberships'] =  data.mvar14 + data.mvar15\n",
    "data['payement_per_card'] =  (data.mvar13*1.0)/data.mvar4\n",
    "data['fees_per_club'] =  (data.mvar6*1.0)/data.mvar14\n",
    "data['Income_per_member'] = (data.mvar9*1.0)/data.mvar2\n",
    "data['spending_per_member'] =  (data.mvar3*1.0)/data.mvar2"
   ]
  },
  {
   "cell_type": "code",
   "execution_count": 11,
   "metadata": {
    "collapsed": true,
    "deletable": true,
    "editable": true
   },
   "outputs": [],
   "source": [
    "\n",
    "# data['travel_spend_per_air_membership'] = data['travel']/data['mvar15']\n",
    "# data[\"PercentageAccepted\"] = (data[\"mvar45\"] + data[\"mvar44\"] + data[\"mvar43\"])/(data[\"mvar42\"] + data[\"mvar41\"] + data[\"mvar40\"])\n",
    "# data[\"TotalAccepted\"] = (data[\"mvar45\"] + data[\"mvar44\"] + data[\"mvar43\"])"
   ]
  },
  {
   "cell_type": "code",
   "execution_count": 12,
   "metadata": {
    "collapsed": true,
    "deletable": true,
    "editable": true
   },
   "outputs": [],
   "source": [
    "# dimentionality reduction on Spend features\n",
    "# pca2 = PCA(1)\n",
    "# Electronics_features = ['mvar16','mvar17','mvar18','mvar19']\n",
    "# data['Electronics_pca']=pca2.fit_transform(data[Electronics_features])\n",
    "\n",
    "# # data.drop(Electronics_features,axis=1,inplace=True)\n",
    "\n",
    "# pca2 = PCA(1)\n",
    "# Travel_features = ['mvar20','mvar21','mvar22','mvar23']\n",
    "# data['Travel_pca']=pca2.fit_transform(data[Travel_features])\n",
    "\n",
    "# pca2 = PCA(1)\n",
    "# Household_features = ['mvar24','mvar25','mvar26','mvar27']\n",
    "# data['Household_pca']=pca2.fit_transform(data[Household_features])\n",
    "\n",
    "\n",
    "# pca2 = PCA(1)\n",
    "# Car_features = ['mvar28','mvar29','mvar30','mvar31']\n",
    "# data['Car_pca']=pca2.fit_transform(data[Car_features])\n",
    "\n",
    "# pca2 = PCA(1)\n",
    "# Retail_features = ['mvar32','mvar33','mvar34','mvar35']\n",
    "# data['Retail_pca']=pca2.fit_transform(data[Retail_features])\n",
    "\n",
    "# pca2 = PCA(1)\n",
    "# Total_features = ['mvar36','mvar37','mvar38','mvar39']\n",
    "# data['Total_pca']=pca2.fit_transform(data[Total_features])"
   ]
  },
  {
   "cell_type": "code",
   "execution_count": null,
   "metadata": {
    "collapsed": true,
    "deletable": true,
    "editable": true
   },
   "outputs": [],
   "source": []
  },
  {
   "cell_type": "code",
   "execution_count": 13,
   "metadata": {
    "collapsed": true,
    "deletable": true,
    "editable": true
   },
   "outputs": [],
   "source": [
    "# from sklearn.preprocessing import LabelEncoder,OneHotEncoder\n",
    "# l=LabelEncoder() \n",
    "# data.mvar12 = l.fit_transform(data.mvar12)"
   ]
  },
  {
   "cell_type": "code",
   "execution_count": 14,
   "metadata": {
    "collapsed": true,
    "deletable": true,
    "editable": true
   },
   "outputs": [],
   "source": [
    "# categorical = [\"mvar12\"]\n",
    "\n",
    "# for i in categorical:\n",
    "#     dummy = pd.get_dummies(data[i], prefix=i)\n",
    "#     data = pd.concat([data, dummy], axis=1)\n",
    "# #     data.drop([i], axis=1, inplace=True)"
   ]
  },
  {
   "cell_type": "markdown",
   "metadata": {
    "deletable": true,
    "editable": true
   },
   "source": [
    "## Model "
   ]
  },
  {
   "cell_type": "code",
   "execution_count": 15,
   "metadata": {
    "collapsed": false,
    "deletable": true,
    "editable": true
   },
   "outputs": [],
   "source": [
    "def preparing_data(train,test, flag):\n",
    "    \n",
    "    if(flag == 'Credit'):\n",
    "        data[\"Y\"] = abs(data.mvar51)\n",
    "        train[\"Y\"] = abs(train.mvar51)\n",
    "\n",
    "    if(flag == 'Elite'):\n",
    "        data[\"Y\"] = abs(data.mvar50)\n",
    "        train[\"Y\"] = abs(train.mvar50)\n",
    "\n",
    "    if(flag == 'Supp'):\n",
    "        data[\"Y\"] = abs(data.mvar49)\n",
    "        train[\"Y\"] = abs(train.mvar49)\n",
    "        \n",
    "    if(flag == 'None'):\n",
    "        data[\"Y\"] = abs(data.mvar49 + data.mvar50 + data.mvar51-1)\n",
    "        train[\"Y\"] = abs(train.mvar49 + train.mvar50 + train.mvar51-1)\n",
    "        \n",
    "    # Since Family size and Industry code in which the customer has spent the most in past contained many labels \n",
    "    # so dummy encoding would create too many variables (curse of dimensionality). \n",
    "    # Therefore each of these were replaced with two new features\n",
    "\n",
    "    categorical = [\"mvar12\", \"mvar2\"]\n",
    "\n",
    "    def replacing_categorical(X):\n",
    "        x=train.groupby(X)[\"Y\"].mean()\n",
    "        y=train.groupby(X)[\"Y\"].std()\n",
    "        data[X+str(\"_mean\")]= data[X].apply(lambda X1: x[X1])\n",
    "        data[X+str(\"_std\")] = data[X].apply(lambda X2: y[X2])\n",
    "    #     del data[X]\n",
    "\n",
    "    for i in categorical:\n",
    "        replacing_categorical(i)\n",
    "   \n",
    "    train_new = data.iloc[0:train.shape[0]]\n",
    "    test_new = data.iloc[train.shape[0]:data.shape[0]]\n",
    "\n",
    "    def prepare_data(df, is_train):\n",
    "        # Dropping cm_key\n",
    "        df = df.drop([\"cm_key\"], axis=1)\n",
    "        # Dropping mvar1 due to uniformity\n",
    "        df  = df.drop([\"mvar1\"], axis=1)\n",
    "        if is_train:\n",
    "            return df.drop([ 'mvar12',\"Y\", \"mvar46\", \"mvar47\", \"mvar48\", \"mvar49\", \"mvar50\", \"mvar51\"], axis=1), df['Y']\n",
    "        return     df.drop([ 'mvar12',\"Y\", \"mvar46\", \"mvar47\", \"mvar48\", \"mvar49\", \"mvar50\", \"mvar51\"], axis=1)\n",
    "\n",
    "\n",
    "    train_features, train_target =prepare_data(train_new, 1)\n",
    "    test_features = prepare_data(test_new,0)\n",
    "    \n",
    "    return train_features, train_target, test_features"
   ]
  },
  {
   "cell_type": "code",
   "execution_count": 16,
   "metadata": {
    "collapsed": true,
    "deletable": true,
    "editable": true
   },
   "outputs": [],
   "source": [
    "import xgboost\n",
    "from sklearn.cross_validation import train_test_split\n",
    "\n",
    "from xgboost import XGBClassifier\n",
    "from sklearn.metrics import accuracy_score, confusion_matrix, roc_auc_score, precision_score, recall_score"
   ]
  },
  {
   "cell_type": "code",
   "execution_count": 17,
   "metadata": {
    "collapsed": false,
    "deletable": true,
    "editable": true
   },
   "outputs": [],
   "source": [
    "def model(train,test,flag):\n",
    "    train_features, train_target, test_features = preparing_data(train,test, flag)\n",
    "    Xtrain, Xtest, ytrain, ytest = train_test_split( train_features, train_target,\n",
    "                                                    stratify=train_target, test_size=.3, random_state=100)\n",
    "    \n",
    "    xgb = XGBClassifier(n_estimators= 1000, seed=100)\n",
    "    xgb.fit( train_features, train_target )\n",
    "\n",
    "    print (\"Training :\"+str(accuracy_score( ytrain, xgb.predict(Xtrain))))\n",
    "    print (\"Test :\"+str(accuracy_score( ytest, xgb.predict(Xtest))))\n",
    "    print (\"ROC_AUC :\"+str(roc_auc_score( ytest, xgb.predict(Xtest))))\n",
    "    print (\"precision_score :\"+str(precision_score( ytest, xgb.predict(Xtest))))\n",
    "    print (\"recall_score :\"+str(recall_score( ytest, xgb.predict(Xtest))))\n",
    "    print (\"confusion_matrix :\"+ str(confusion_matrix(ytest, xgb.predict(Xtest))))\n",
    "\n",
    "    def myscorer(cm):\n",
    "        False1 = cm[0][1]\n",
    "        False2 = cm[1][0]\n",
    "        return (3*False1) + (False2), (False1+False2)\n",
    "\n",
    "    print (\"myscorer :\"+ str(myscorer(confusion_matrix(ytest, xgb.predict(Xtest)))))\n",
    "           \n",
    "    ax = xgboost.plot_importance(xgb)\n",
    "    fig = ax.figure\n",
    "    fig.set_size_inches(15, 15)"
   ]
  },
  {
   "cell_type": "code",
   "execution_count": 18,
   "metadata": {
    "collapsed": false,
    "deletable": true,
    "editable": true,
    "scrolled": true
   },
   "outputs": [
    {
     "name": "stdout",
     "output_type": "stream",
     "text": [
      "Training :0.926178571429\n",
      "Test :0.928666666667\n",
      "ROC_AUC :0.587825355036\n",
      "precision_score :0.978494623656\n",
      "recall_score :0.176015473888\n",
      "confusion_matrix :[[10962     4]\n",
      " [  852   182]]\n",
      "myscorer :(864, 856)\n"
     ]
    },
    {
     "data": {
      "image/png": "[encoded data removed]",
      "text/plain": [
       "<matplotlib.figure.Figure at 0x7f0cbb51c5d0>"
      ]
     },
     "metadata": {},
     "output_type": "display_data"
    }
   ],
   "source": [
    "model(train,test,'Supp')"
   ]
  },
  {
   "cell_type": "code",
   "execution_count": 19,
   "metadata": {
    "collapsed": true,
    "deletable": true,
    "editable": true
   },
   "outputs": [],
   "source": [
    "# Training on Supp data\n",
    "train_features, train_target, test_features = preparing_data(train,test, \"Supp\")\n",
    "xgb = XGBClassifier(n_estimators= 1000, seed=100)\n",
    "xgb.fit(train_features, train_target)\n",
    "submission = pd.concat([test[\"cm_key\"], pd.DataFrame(xgb.predict_proba(test_features), columns=[\"Supp_NO\",\"Supp_Yes\"])], axis=1)\n",
    "submission.to_csv(\"Supp.csv\", index=False)"
   ]
  },
  {
   "cell_type": "code",
   "execution_count": 20,
   "metadata": {
    "collapsed": true,
    "deletable": true,
    "editable": true
   },
   "outputs": [],
   "source": [
    "# Training on Elite data\n",
    "train_features, train_target, test_features = preparing_data(train,test, \"Elite\")\n",
    "xgb = XGBClassifier(n_estimators= 1000, seed=100)\n",
    "xgb.fit(train_features, train_target)\n",
    "submission = pd.concat([test[\"cm_key\"], pd.DataFrame(xgb.predict_proba(test_features), columns=[\"Elite_NO\",\"Elite_Yes\"])], axis=1)\n",
    "submission.to_csv(\"Elite.csv\", index=False)"
   ]
  },
  {
   "cell_type": "code",
   "execution_count": 21,
   "metadata": {
    "collapsed": false,
    "deletable": true,
    "editable": true
   },
   "outputs": [],
   "source": [
    "# Training on credit data\n",
    "train_features, train_target, test_features = preparing_data(train,test, \"Credit\")\n",
    "xgb = XGBClassifier(n_estimators= 1000, seed=100)\n",
    "xgb.fit(train_features, train_target)\n",
    "submission = pd.concat([test[\"cm_key\"], pd.DataFrame(xgb.predict_proba(test_features), columns=[\"Credit_NO\",\"Credit_Yes\"])], axis=1)\n",
    "submission.to_csv(\"Credit.csv\", index=False)"
   ]
  },
  {
   "cell_type": "code",
   "execution_count": 22,
   "metadata": {
    "collapsed": true,
    "deletable": true,
    "editable": true
   },
   "outputs": [],
   "source": [
    "# Training on None  class data\n",
    "train_features, train_target, test_features = preparing_data(train,test, \"None\")\n",
    "xgb = XGBClassifier(n_estimators= 1000, seed=100)\n",
    "xgb.fit(train_features, train_target)\n",
    "submission = pd.concat([test[\"cm_key\"], pd.DataFrame(xgb.predict_proba(test_features), columns=[\"None_NO\",\"None_Yes\"])], axis=1)\n",
    "submission.to_csv(\"NOne.csv\", index=False)"
   ]
  },
  {
   "cell_type": "markdown",
   "metadata": {
    "deletable": true,
    "editable": true
   },
   "source": [
    "## Strategies to decide final submission"
   ]
  },
  {
   "cell_type": "code",
   "execution_count": 23,
   "metadata": {
    "collapsed": true,
    "deletable": true,
    "editable": true
   },
   "outputs": [],
   "source": [
    "Supp = pd.read_csv(\"Supp.csv\")\n",
    "Credit = pd.read_csv(\"Credit.csv\")\n",
    "Elite = pd.read_csv(\"Elite.csv\")\n",
    "NOne = pd.read_csv(\"NOne.csv\")"
   ]
  },
  {
   "cell_type": "code",
   "execution_count": 24,
   "metadata": {
    "collapsed": false,
    "deletable": true,
    "editable": true
   },
   "outputs": [
    {
     "data": {
      "text/html": [
       "<div>\n",
       "<table border=\"1\" class=\"dataframe\">\n",
       "  <thead>\n",
       "    <tr style=\"text-align: right;\">\n",
       "      <th></th>\n",
       "      <th>cm_key</th>\n",
       "      <th>Supp_NO</th>\n",
       "      <th>Supp_Yes</th>\n",
       "    </tr>\n",
       "  </thead>\n",
       "  <tbody>\n",
       "    <tr>\n",
       "      <th>0</th>\n",
       "      <td>50001</td>\n",
       "      <td>0.906858</td>\n",
       "      <td>0.093142</td>\n",
       "    </tr>\n",
       "    <tr>\n",
       "      <th>1</th>\n",
       "      <td>50002</td>\n",
       "      <td>0.968705</td>\n",
       "      <td>0.031295</td>\n",
       "    </tr>\n",
       "  </tbody>\n",
       "</table>\n",
       "</div>"
      ],
      "text/plain": [
       "   cm_key   Supp_NO  Supp_Yes\n",
       "0   50001  0.906858  0.093142\n",
       "1   50002  0.968705  0.031295"
      ]
     },
     "execution_count": 24,
     "metadata": {},
     "output_type": "execute_result"
    }
   ],
   "source": [
    "Supp.head(2)"
   ]
  },
  {
   "cell_type": "code",
   "execution_count": 25,
   "metadata": {
    "collapsed": true,
    "deletable": true,
    "editable": true
   },
   "outputs": [],
   "source": [
    "data = pd.merge(Supp, Credit, how=\"inner\")\n",
    "data = pd.merge(data, Elite, how=\"inner\")\n",
    "data = pd.merge(data, NOne, how=\"inner\")"
   ]
  },
  {
   "cell_type": "code",
   "execution_count": 26,
   "metadata": {
    "collapsed": false,
    "deletable": true,
    "editable": true
   },
   "outputs": [
    {
     "data": {
      "text/plain": [
       "(10000, 9)"
      ]
     },
     "execution_count": 26,
     "metadata": {},
     "output_type": "execute_result"
    }
   ],
   "source": [
    "data.shape"
   ]
  },
  {
   "cell_type": "code",
   "execution_count": 27,
   "metadata": {
    "collapsed": false,
    "deletable": true,
    "editable": true
   },
   "outputs": [
    {
     "data": {
      "text/html": [
       "<div>\n",
       "<table border=\"1\" class=\"dataframe\">\n",
       "  <thead>\n",
       "    <tr style=\"text-align: right;\">\n",
       "      <th></th>\n",
       "      <th>cm_key</th>\n",
       "      <th>Supp_NO</th>\n",
       "      <th>Supp_Yes</th>\n",
       "      <th>Credit_NO</th>\n",
       "      <th>Credit_Yes</th>\n",
       "      <th>Elite_NO</th>\n",
       "      <th>Elite_Yes</th>\n",
       "      <th>None_NO</th>\n",
       "      <th>None_Yes</th>\n",
       "    </tr>\n",
       "  </thead>\n",
       "  <tbody>\n",
       "    <tr>\n",
       "      <th>0</th>\n",
       "      <td>50001</td>\n",
       "      <td>0.906858</td>\n",
       "      <td>0.093142</td>\n",
       "      <td>0.943825</td>\n",
       "      <td>0.056175</td>\n",
       "      <td>0.887430</td>\n",
       "      <td>0.112570</td>\n",
       "      <td>0.340754</td>\n",
       "      <td>0.659246</td>\n",
       "    </tr>\n",
       "    <tr>\n",
       "      <th>1</th>\n",
       "      <td>50002</td>\n",
       "      <td>0.968705</td>\n",
       "      <td>0.031295</td>\n",
       "      <td>0.997677</td>\n",
       "      <td>0.002323</td>\n",
       "      <td>0.983464</td>\n",
       "      <td>0.016536</td>\n",
       "      <td>0.088599</td>\n",
       "      <td>0.911401</td>\n",
       "    </tr>\n",
       "  </tbody>\n",
       "</table>\n",
       "</div>"
      ],
      "text/plain": [
       "   cm_key   Supp_NO  Supp_Yes  Credit_NO  Credit_Yes  Elite_NO  Elite_Yes  \\\n",
       "0   50001  0.906858  0.093142   0.943825    0.056175  0.887430   0.112570   \n",
       "1   50002  0.968705  0.031295   0.997677    0.002323  0.983464   0.016536   \n",
       "\n",
       "    None_NO  None_Yes  \n",
       "0  0.340754  0.659246  \n",
       "1  0.088599  0.911401  "
      ]
     },
     "execution_count": 27,
     "metadata": {},
     "output_type": "execute_result"
    }
   ],
   "source": [
    "data.head(2)"
   ]
  },
  {
   "cell_type": "code",
   "execution_count": null,
   "metadata": {
    "collapsed": true,
    "deletable": true,
    "editable": true
   },
   "outputs": [],
   "source": []
  },
  {
   "cell_type": "markdown",
   "metadata": {
    "deletable": true,
    "editable": true
   },
   "source": [
    "## According to Max"
   ]
  },
  {
   "cell_type": "code",
   "execution_count": 28,
   "metadata": {
    "collapsed": true,
    "deletable": true,
    "editable": true
   },
   "outputs": [],
   "source": [
    "data[\"Max\"] = data.apply(lambda x: max(x[\"Supp_Yes\"], x[\"Elite_Yes\"], x[\"Credit_Yes\"]), axis=1)\n",
    "data[\"predict\"] = \"Supp\"\n",
    "data[\"predict\"][data.Max == data.Elite_Yes] = \"Elite\"\n",
    "data[\"predict\"][data.Max == data.Credit_Yes] = \"Credit\""
   ]
  },
  {
   "cell_type": "code",
   "execution_count": 29,
   "metadata": {
    "collapsed": true,
    "deletable": true,
    "editable": true
   },
   "outputs": [],
   "source": [
    "data['Rank_Max'] = data[\"Max\"].rank(ascending=0)\n",
    "data = data.sort([\"Rank_Max\"], ascending = 1)"
   ]
  },
  {
   "cell_type": "code",
   "execution_count": 30,
   "metadata": {
    "collapsed": false,
    "deletable": true,
    "editable": true
   },
   "outputs": [
    {
     "data": {
      "text/html": [
       "<div>\n",
       "<table border=\"1\" class=\"dataframe\">\n",
       "  <thead>\n",
       "    <tr style=\"text-align: right;\">\n",
       "      <th></th>\n",
       "      <th>cm_key</th>\n",
       "      <th>Supp_NO</th>\n",
       "      <th>Supp_Yes</th>\n",
       "      <th>Credit_NO</th>\n",
       "      <th>Credit_Yes</th>\n",
       "      <th>Elite_NO</th>\n",
       "      <th>Elite_Yes</th>\n",
       "      <th>None_NO</th>\n",
       "      <th>None_Yes</th>\n",
       "      <th>Max</th>\n",
       "      <th>predict</th>\n",
       "      <th>Rank_Max</th>\n",
       "    </tr>\n",
       "  </thead>\n",
       "  <tbody>\n",
       "    <tr>\n",
       "      <th>8317</th>\n",
       "      <td>58318</td>\n",
       "      <td>0.093764</td>\n",
       "      <td>0.906236</td>\n",
       "      <td>0.992138</td>\n",
       "      <td>0.007862</td>\n",
       "      <td>0.986590</td>\n",
       "      <td>0.013410</td>\n",
       "      <td>0.665688</td>\n",
       "      <td>0.334312</td>\n",
       "      <td>0.906236</td>\n",
       "      <td>Supp</td>\n",
       "      <td>1.0</td>\n",
       "    </tr>\n",
       "    <tr>\n",
       "      <th>4528</th>\n",
       "      <td>54529</td>\n",
       "      <td>0.953334</td>\n",
       "      <td>0.046666</td>\n",
       "      <td>0.997538</td>\n",
       "      <td>0.002462</td>\n",
       "      <td>0.101005</td>\n",
       "      <td>0.898995</td>\n",
       "      <td>0.473090</td>\n",
       "      <td>0.526910</td>\n",
       "      <td>0.898995</td>\n",
       "      <td>Elite</td>\n",
       "      <td>2.0</td>\n",
       "    </tr>\n",
       "  </tbody>\n",
       "</table>\n",
       "</div>"
      ],
      "text/plain": [
       "      cm_key   Supp_NO  Supp_Yes  Credit_NO  Credit_Yes  Elite_NO  Elite_Yes  \\\n",
       "8317   58318  0.093764  0.906236   0.992138    0.007862  0.986590   0.013410   \n",
       "4528   54529  0.953334  0.046666   0.997538    0.002462  0.101005   0.898995   \n",
       "\n",
       "       None_NO  None_Yes       Max predict  Rank_Max  \n",
       "8317  0.665688  0.334312  0.906236    Supp       1.0  \n",
       "4528  0.473090  0.526910  0.898995   Elite       2.0  "
      ]
     },
     "execution_count": 30,
     "metadata": {},
     "output_type": "execute_result"
    }
   ],
   "source": [
    "data.head(2)"
   ]
  },
  {
   "cell_type": "markdown",
   "metadata": {
    "deletable": true,
    "editable": true
   },
   "source": [
    "## According to None"
   ]
  },
  {
   "cell_type": "code",
   "execution_count": 31,
   "metadata": {
    "collapsed": true,
    "deletable": true,
    "editable": true
   },
   "outputs": [],
   "source": [
    "data['RankNone'] = data[\"None_Yes\"].rank(ascending=1)\n",
    "data = data.sort([\"RankNone\"], ascending = 1)"
   ]
  },
  {
   "cell_type": "code",
   "execution_count": 32,
   "metadata": {
    "collapsed": false,
    "deletable": true,
    "editable": true
   },
   "outputs": [
    {
     "data": {
      "text/html": [
       "<div>\n",
       "<table border=\"1\" class=\"dataframe\">\n",
       "  <thead>\n",
       "    <tr style=\"text-align: right;\">\n",
       "      <th></th>\n",
       "      <th>cm_key</th>\n",
       "      <th>Supp_NO</th>\n",
       "      <th>Supp_Yes</th>\n",
       "      <th>Credit_NO</th>\n",
       "      <th>Credit_Yes</th>\n",
       "      <th>Elite_NO</th>\n",
       "      <th>Elite_Yes</th>\n",
       "      <th>None_NO</th>\n",
       "      <th>None_Yes</th>\n",
       "      <th>Max</th>\n",
       "      <th>predict</th>\n",
       "      <th>Rank_Max</th>\n",
       "      <th>RankNone</th>\n",
       "    </tr>\n",
       "  </thead>\n",
       "  <tbody>\n",
       "    <tr>\n",
       "      <th>5802</th>\n",
       "      <td>55803</td>\n",
       "      <td>0.386536</td>\n",
       "      <td>0.613464</td>\n",
       "      <td>0.980758</td>\n",
       "      <td>0.019242</td>\n",
       "      <td>0.941721</td>\n",
       "      <td>0.058279</td>\n",
       "      <td>0.818919</td>\n",
       "      <td>0.181081</td>\n",
       "      <td>0.613464</td>\n",
       "      <td>Supp</td>\n",
       "      <td>72.0</td>\n",
       "      <td>1.0</td>\n",
       "    </tr>\n",
       "    <tr>\n",
       "      <th>6403</th>\n",
       "      <td>56404</td>\n",
       "      <td>0.968501</td>\n",
       "      <td>0.031499</td>\n",
       "      <td>0.972415</td>\n",
       "      <td>0.027585</td>\n",
       "      <td>0.391493</td>\n",
       "      <td>0.608507</td>\n",
       "      <td>0.791173</td>\n",
       "      <td>0.208827</td>\n",
       "      <td>0.608507</td>\n",
       "      <td>Elite</td>\n",
       "      <td>79.0</td>\n",
       "      <td>2.0</td>\n",
       "    </tr>\n",
       "  </tbody>\n",
       "</table>\n",
       "</div>"
      ],
      "text/plain": [
       "      cm_key   Supp_NO  Supp_Yes  Credit_NO  Credit_Yes  Elite_NO  Elite_Yes  \\\n",
       "5802   55803  0.386536  0.613464   0.980758    0.019242  0.941721   0.058279   \n",
       "6403   56404  0.968501  0.031499   0.972415    0.027585  0.391493   0.608507   \n",
       "\n",
       "       None_NO  None_Yes       Max predict  Rank_Max  RankNone  \n",
       "5802  0.818919  0.181081  0.613464    Supp      72.0       1.0  \n",
       "6403  0.791173  0.208827  0.608507   Elite      79.0       2.0  "
      ]
     },
     "execution_count": 32,
     "metadata": {},
     "output_type": "execute_result"
    }
   ],
   "source": [
    "data.head(2)"
   ]
  },
  {
   "cell_type": "markdown",
   "metadata": {
    "deletable": true,
    "editable": true
   },
   "source": [
    "## According to Supp_No + Credit_No + Elite_No + None_Yes"
   ]
  },
  {
   "cell_type": "code",
   "execution_count": 33,
   "metadata": {
    "collapsed": true,
    "deletable": true,
    "editable": true
   },
   "outputs": [],
   "source": [
    "data[\"No\"] = data.Supp_NO + data.Credit_NO + data.Elite_NO + data.None_Yes\n",
    "\n",
    "data['Rank_NO'] = data[\"No\"].rank(ascending=1)\n",
    "data = data.sort([\"Rank_NO\"], ascending = 1)"
   ]
  },
  {
   "cell_type": "code",
   "execution_count": 34,
   "metadata": {
    "collapsed": true,
    "deletable": true,
    "editable": true
   },
   "outputs": [],
   "source": [
    "del data[\"Supp_NO\"]\n",
    "del data[\"Credit_NO\"]\n",
    "del data[\"Elite_NO\"]\n",
    "del data[\"None_NO\"]"
   ]
  },
  {
   "cell_type": "code",
   "execution_count": 35,
   "metadata": {
    "collapsed": false,
    "deletable": true,
    "editable": true
   },
   "outputs": [
    {
     "data": {
      "text/html": [
       "<div>\n",
       "<table border=\"1\" class=\"dataframe\">\n",
       "  <thead>\n",
       "    <tr style=\"text-align: right;\">\n",
       "      <th></th>\n",
       "      <th>cm_key</th>\n",
       "      <th>Supp_Yes</th>\n",
       "      <th>Credit_Yes</th>\n",
       "      <th>Elite_Yes</th>\n",
       "      <th>None_Yes</th>\n",
       "      <th>Max</th>\n",
       "      <th>predict</th>\n",
       "      <th>Rank_Max</th>\n",
       "      <th>RankNone</th>\n",
       "      <th>No</th>\n",
       "      <th>Rank_NO</th>\n",
       "    </tr>\n",
       "  </thead>\n",
       "  <tbody>\n",
       "    <tr>\n",
       "      <th>4</th>\n",
       "      <td>50005</td>\n",
       "      <td>0.029778</td>\n",
       "      <td>0.206154</td>\n",
       "      <td>0.880319</td>\n",
       "      <td>0.322535</td>\n",
       "      <td>0.880319</td>\n",
       "      <td>Elite</td>\n",
       "      <td>3.0</td>\n",
       "      <td>33.0</td>\n",
       "      <td>2.206285</td>\n",
       "      <td>1.0</td>\n",
       "    </tr>\n",
       "    <tr>\n",
       "      <th>2911</th>\n",
       "      <td>52912</td>\n",
       "      <td>0.021367</td>\n",
       "      <td>0.369724</td>\n",
       "      <td>0.605277</td>\n",
       "      <td>0.329549</td>\n",
       "      <td>0.605277</td>\n",
       "      <td>Elite</td>\n",
       "      <td>81.0</td>\n",
       "      <td>37.0</td>\n",
       "      <td>2.333181</td>\n",
       "      <td>2.0</td>\n",
       "    </tr>\n",
       "  </tbody>\n",
       "</table>\n",
       "</div>"
      ],
      "text/plain": [
       "      cm_key  Supp_Yes  Credit_Yes  Elite_Yes  None_Yes       Max predict  \\\n",
       "4      50005  0.029778    0.206154   0.880319  0.322535  0.880319   Elite   \n",
       "2911   52912  0.021367    0.369724   0.605277  0.329549  0.605277   Elite   \n",
       "\n",
       "      Rank_Max  RankNone        No  Rank_NO  \n",
       "4          3.0      33.0  2.206285      1.0  \n",
       "2911      81.0      37.0  2.333181      2.0  "
      ]
     },
     "execution_count": 35,
     "metadata": {},
     "output_type": "execute_result"
    }
   ],
   "source": [
    "data.head(2)"
   ]
  },
  {
   "cell_type": "markdown",
   "metadata": {
    "deletable": true,
    "editable": true
   },
   "source": [
    "## According to Max -  None"
   ]
  },
  {
   "cell_type": "code",
   "execution_count": 36,
   "metadata": {
    "collapsed": true,
    "deletable": true,
    "editable": true
   },
   "outputs": [],
   "source": [
    "data[\"Max-None\"] = data[\"Max\"] - data[\"None_Yes\"]\n",
    "\n",
    "data['Rank_Max-None'] = data[\"Max-None\"].rank(ascending=0)\n",
    "data = data.sort([\"Rank_Max-None\"], ascending = 1)"
   ]
  },
  {
   "cell_type": "code",
   "execution_count": 37,
   "metadata": {
    "collapsed": false,
    "deletable": true,
    "editable": true
   },
   "outputs": [
    {
     "data": {
      "text/html": [
       "<div>\n",
       "<table border=\"1\" class=\"dataframe\">\n",
       "  <thead>\n",
       "    <tr style=\"text-align: right;\">\n",
       "      <th></th>\n",
       "      <th>cm_key</th>\n",
       "      <th>Supp_Yes</th>\n",
       "      <th>Credit_Yes</th>\n",
       "      <th>Elite_Yes</th>\n",
       "      <th>None_Yes</th>\n",
       "      <th>Max</th>\n",
       "      <th>predict</th>\n",
       "      <th>Rank_Max</th>\n",
       "      <th>RankNone</th>\n",
       "      <th>No</th>\n",
       "      <th>Rank_NO</th>\n",
       "      <th>Max-None</th>\n",
       "      <th>Rank_Max-None</th>\n",
       "    </tr>\n",
       "  </thead>\n",
       "  <tbody>\n",
       "    <tr>\n",
       "      <th>8930</th>\n",
       "      <td>58931</td>\n",
       "      <td>0.029410</td>\n",
       "      <td>0.025412</td>\n",
       "      <td>0.83391</td>\n",
       "      <td>0.245424</td>\n",
       "      <td>0.833910</td>\n",
       "      <td>Elite</td>\n",
       "      <td>7.0</td>\n",
       "      <td>7.0</td>\n",
       "      <td>2.356693</td>\n",
       "      <td>3.0</td>\n",
       "      <td>0.588486</td>\n",
       "      <td>1.0</td>\n",
       "    </tr>\n",
       "    <tr>\n",
       "      <th>8317</th>\n",
       "      <td>58318</td>\n",
       "      <td>0.906236</td>\n",
       "      <td>0.007862</td>\n",
       "      <td>0.01341</td>\n",
       "      <td>0.334312</td>\n",
       "      <td>0.906236</td>\n",
       "      <td>Supp</td>\n",
       "      <td>1.0</td>\n",
       "      <td>39.0</td>\n",
       "      <td>2.406803</td>\n",
       "      <td>10.0</td>\n",
       "      <td>0.571925</td>\n",
       "      <td>2.0</td>\n",
       "    </tr>\n",
       "  </tbody>\n",
       "</table>\n",
       "</div>"
      ],
      "text/plain": [
       "      cm_key  Supp_Yes  Credit_Yes  Elite_Yes  None_Yes       Max predict  \\\n",
       "8930   58931  0.029410    0.025412    0.83391  0.245424  0.833910   Elite   \n",
       "8317   58318  0.906236    0.007862    0.01341  0.334312  0.906236    Supp   \n",
       "\n",
       "      Rank_Max  RankNone        No  Rank_NO  Max-None  Rank_Max-None  \n",
       "8930       7.0       7.0  2.356693      3.0  0.588486            1.0  \n",
       "8317       1.0      39.0  2.406803     10.0  0.571925            2.0  "
      ]
     },
     "execution_count": 37,
     "metadata": {},
     "output_type": "execute_result"
    }
   ],
   "source": [
    "data.head(2)"
   ]
  },
  {
   "cell_type": "markdown",
   "metadata": {
    "deletable": true,
    "editable": true
   },
   "source": [
    "## Ensembling"
   ]
  },
  {
   "cell_type": "code",
   "execution_count": 38,
   "metadata": {
    "collapsed": true,
    "deletable": true,
    "editable": true
   },
   "outputs": [],
   "source": [
    "data[\"Rank_Combine\"] = data[\"Rank_Max-None\"] + data[\"Rank_NO\"]"
   ]
  },
  {
   "cell_type": "code",
   "execution_count": 39,
   "metadata": {
    "collapsed": true,
    "deletable": true,
    "editable": true
   },
   "outputs": [],
   "source": [
    "data = data.sort([\"Rank_Combine\"], ascending = 1)\n",
    "submission = data[[\"cm_key\", \"predict\"]][0:1000]"
   ]
  },
  {
   "cell_type": "code",
   "execution_count": 40,
   "metadata": {
    "collapsed": false,
    "deletable": true,
    "editable": true
   },
   "outputs": [
    {
     "data": {
      "text/html": [
       "<div>\n",
       "<table border=\"1\" class=\"dataframe\">\n",
       "  <thead>\n",
       "    <tr style=\"text-align: right;\">\n",
       "      <th></th>\n",
       "      <th>cm_key</th>\n",
       "      <th>Supp_Yes</th>\n",
       "      <th>Credit_Yes</th>\n",
       "      <th>Elite_Yes</th>\n",
       "      <th>None_Yes</th>\n",
       "      <th>Max</th>\n",
       "      <th>predict</th>\n",
       "      <th>Rank_Max</th>\n",
       "      <th>RankNone</th>\n",
       "      <th>No</th>\n",
       "      <th>Rank_NO</th>\n",
       "      <th>Max-None</th>\n",
       "      <th>Rank_Max-None</th>\n",
       "      <th>Rank_Combine</th>\n",
       "    </tr>\n",
       "  </thead>\n",
       "  <tbody>\n",
       "    <tr>\n",
       "      <th>8930</th>\n",
       "      <td>58931</td>\n",
       "      <td>0.029410</td>\n",
       "      <td>0.025412</td>\n",
       "      <td>0.833910</td>\n",
       "      <td>0.245424</td>\n",
       "      <td>0.833910</td>\n",
       "      <td>Elite</td>\n",
       "      <td>7.0</td>\n",
       "      <td>7.0</td>\n",
       "      <td>2.356693</td>\n",
       "      <td>3.0</td>\n",
       "      <td>0.588486</td>\n",
       "      <td>1.0</td>\n",
       "      <td>4.0</td>\n",
       "    </tr>\n",
       "    <tr>\n",
       "      <th>4</th>\n",
       "      <td>50005</td>\n",
       "      <td>0.029778</td>\n",
       "      <td>0.206154</td>\n",
       "      <td>0.880319</td>\n",
       "      <td>0.322535</td>\n",
       "      <td>0.880319</td>\n",
       "      <td>Elite</td>\n",
       "      <td>3.0</td>\n",
       "      <td>33.0</td>\n",
       "      <td>2.206285</td>\n",
       "      <td>1.0</td>\n",
       "      <td>0.557783</td>\n",
       "      <td>3.0</td>\n",
       "      <td>4.0</td>\n",
       "    </tr>\n",
       "  </tbody>\n",
       "</table>\n",
       "</div>"
      ],
      "text/plain": [
       "      cm_key  Supp_Yes  Credit_Yes  Elite_Yes  None_Yes       Max predict  \\\n",
       "8930   58931  0.029410    0.025412   0.833910  0.245424  0.833910   Elite   \n",
       "4      50005  0.029778    0.206154   0.880319  0.322535  0.880319   Elite   \n",
       "\n",
       "      Rank_Max  RankNone        No  Rank_NO  Max-None  Rank_Max-None  \\\n",
       "8930       7.0       7.0  2.356693      3.0  0.588486            1.0   \n",
       "4          3.0      33.0  2.206285      1.0  0.557783            3.0   \n",
       "\n",
       "      Rank_Combine  \n",
       "8930           4.0  \n",
       "4              4.0  "
      ]
     },
     "execution_count": 40,
     "metadata": {},
     "output_type": "execute_result"
    }
   ],
   "source": [
    "data.head(2)"
   ]
  },
  {
   "cell_type": "code",
   "execution_count": 41,
   "metadata": {
    "collapsed": false,
    "deletable": true,
    "editable": true
   },
   "outputs": [
    {
     "data": {
      "text/html": [
       "<div>\n",
       "<table border=\"1\" class=\"dataframe\">\n",
       "  <thead>\n",
       "    <tr style=\"text-align: right;\">\n",
       "      <th></th>\n",
       "      <th>cm_key</th>\n",
       "      <th>predict</th>\n",
       "    </tr>\n",
       "  </thead>\n",
       "  <tbody>\n",
       "    <tr>\n",
       "      <th>8930</th>\n",
       "      <td>58931</td>\n",
       "      <td>Elite</td>\n",
       "    </tr>\n",
       "    <tr>\n",
       "      <th>4</th>\n",
       "      <td>50005</td>\n",
       "      <td>Elite</td>\n",
       "    </tr>\n",
       "  </tbody>\n",
       "</table>\n",
       "</div>"
      ],
      "text/plain": [
       "      cm_key predict\n",
       "8930   58931   Elite\n",
       "4      50005   Elite"
      ]
     },
     "execution_count": 41,
     "metadata": {},
     "output_type": "execute_result"
    }
   ],
   "source": [
    "submission.head(2)"
   ]
  },
  {
   "cell_type": "code",
   "execution_count": 42,
   "metadata": {
    "collapsed": false,
    "deletable": true,
    "editable": true
   },
   "outputs": [
    {
     "data": {
      "text/plain": [
       "Elite     367\n",
       "Credit    351\n",
       "Supp      282\n",
       "Name: predict, dtype: int64"
      ]
     },
     "execution_count": 42,
     "metadata": {},
     "output_type": "execute_result"
    }
   ],
   "source": [
    "submission[\"predict\"].value_counts()"
   ]
  },
  {
   "cell_type": "code",
   "execution_count": 43,
   "metadata": {
    "collapsed": true,
    "deletable": true,
    "editable": true
   },
   "outputs": [],
   "source": [
    "now = datetime.datetime.now()\n",
    "submission.to_csv(\"Models_\" + str(now.day) + \"_\" + str(now.hour) +\"_\" + str(now.minute) + \".csv\", index=False,header=None)"
   ]
  },
  {
   "cell_type": "code",
   "execution_count": null,
   "metadata": {
    "collapsed": true,
    "deletable": true,
    "editable": true
   },
   "outputs": [],
   "source": []
  },
  {
   "cell_type": "code",
   "execution_count": null,
   "metadata": {
    "collapsed": true
   },
   "outputs": [],
   "source": []
  },
  {
   "cell_type": "code",
   "execution_count": null,
   "metadata": {
    "collapsed": true
   },
   "outputs": [],
   "source": []
  },
  {
   "cell_type": "code",
   "execution_count": null,
   "metadata": {
    "collapsed": true
   },
   "outputs": [],
   "source": []
  }
 ],
 "metadata": {
  "kernelspec": {
   "display_name": "Python 2",
   "language": "python",
   "name": "python2"
  },
  "language_info": {
   "codemirror_mode": {
    "name": "ipython",
    "version": 2
   },
   "file_extension": ".py",
   "mimetype": "text/x-python",
   "name": "python",
   "nbconvert_exporter": "python",
   "pygments_lexer": "ipython2",
   "version": "2.7.12"
  }
 },
 "nbformat": 4,
 "nbformat_minor": 2
}
