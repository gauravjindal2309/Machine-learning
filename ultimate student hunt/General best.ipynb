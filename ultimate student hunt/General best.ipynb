{
 "cells": [
  {
   "cell_type": "code",
   "execution_count": null,
   "metadata": {
    "collapsed": true,
    "deletable": true,
    "editable": true
   },
   "outputs": [],
   "source": [
    "# Supress unnecessary warnings so that presentation looks clean\n",
    "import warnings\n",
    "warnings.filterwarnings('ignore')"
   ]
  },
  {
   "cell_type": "code",
   "execution_count": null,
   "metadata": {
    "collapsed": true,
    "deletable": true,
    "editable": true
   },
   "outputs": [],
   "source": [
    "import pandas as pd\n",
    "import numpy as np\n",
    "import scipy.stats as st\n",
    "import math\n",
    "from sklearn.ensemble import GradientBoostingRegressor\n",
    "from sklearn.cross_validation import cross_val_score\n",
    "from sklearn.cross_validation import KFold\n",
    "from sklearn.metrics import mean_squared_error\n",
    "\n",
    "from sklearn import cross_validation, metrics\n",
    "from sklearn.grid_search import GridSearchCV\n",
    "import matplotlib.pylab as plt\n",
    "%matplotlib inline\n",
    "from matplotlib.pylab import rcParams\n",
    "rcParams['figure.figsize'] = 12, 4\n",
    "\n",
    "\n",
    "#import plotting libraries\n",
    "import seaborn as sns\n",
    "import matplotlib.pyplot as plt"
   ]
  },
  {
   "cell_type": "code",
   "execution_count": null,
   "metadata": {
    "collapsed": true,
    "deletable": true,
    "editable": true
   },
   "outputs": [],
   "source": [
    "cd /home/gaurav/Documents/Python/Analytics vidya/Forest classification"
   ]
  },
  {
   "cell_type": "code",
   "execution_count": null,
   "metadata": {
    "collapsed": true,
    "deletable": true,
    "editable": true
   },
   "outputs": [],
   "source": [
    "train = pd.read_csv('train.csv')\n",
    "test = pd.read_csv('test.csv')\n",
    "dataset = train.iloc[:,1:]"
   ]
  },
  {
   "cell_type": "code",
   "execution_count": null,
   "metadata": {
    "collapsed": true,
    "deletable": true,
    "editable": true
   },
   "outputs": [],
   "source": [
    "train = pd.read_csv('train.csv', parse_dates = ['Date'])\n",
    "train['year'] = train.Date.dt.year\n",
    "train['month'] = train.Date.dt.month\n",
    "train['day'] = train.Date.dt.day\n",
    "train['weekdays'] = train.Date.dt.dayofweek\n",
    "data = train.drop(labels= [\"Withdrawal\",\"Balance\",\"ID\",\"Date\"], axis=1)\n",
    "\n",
    "\n",
    "#or we can also do like this\n",
    "# row is dataframe containing a single row of train dataframe\n",
    "\n",
    "train['Dat'] = 0\n",
    "for index,row in train.iterrows():\n",
    "    r = row['Date']\n",
    "train.set_value(index,'Dat',int(r[0])*10+int(r[1]))\n"
   ]
  },
  {
   "cell_type": "code",
   "execution_count": null,
   "metadata": {
    "collapsed": true,
    "deletable": true,
    "editable": true
   },
   "outputs": [],
   "source": [
    "# data intro\n",
    "dataset.head()\n",
    "dataset.shape\n",
    "dataset.dtypes\n",
    "dataset.describe()\n",
    "dataset.skew()\n",
    "train.info()\n",
    "train.ncodpers.unique()"
   ]
  },
  {
   "cell_type": "code",
   "execution_count": null,
   "metadata": {
    "collapsed": true,
    "deletable": true,
    "editable": true
   },
   "outputs": [],
   "source": [
    "del train['Id']\n",
    "cols=data.columns\n",
    "dataset.groupby('Cover_Type').size()\n",
    "pd.crosstab(index=train['Cover_Type'],columns=\"count\")\n",
    "train=train.drop('Soil_Type15',1)\n",
    "\n",
    "train['yearmonth'] = train['yearmonth'].apply(lambda x: (100*x.year) + x.month)\n",
    "yearmonth = train['yearmonth'].value_counts()\n"
   ]
  },
  {
   "cell_type": "code",
   "execution_count": null,
   "metadata": {
    "collapsed": true
   },
   "outputs": [],
   "source": [
    "#missing value impute\n",
    "df_train.fillna(-1, inplace=True)\n",
    "train.isnull().any()"
   ]
  },
  {
   "cell_type": "code",
   "execution_count": null,
   "metadata": {
    "collapsed": true
   },
   "outputs": [],
   "source": [
    "park_month_mois_mean = df_train.groupby(['Park_ID', 'month'], as_index=False)['Min_Moisture_In_Park'].mean()\n",
    "df_train = df_train.merge(park_month_mois_mean, on=['Park_ID', 'month'], how='left', suffixes=('', '_park_month_mois'))"
   ]
  },
  {
   "cell_type": "code",
   "execution_count": null,
   "metadata": {
    "collapsed": true,
    "deletable": true,
    "editable": true
   },
   "outputs": [],
   "source": [
    "# univariate analysis\n",
    "import matplotlib.pyplot as plt\n",
    "plt.clf()\n",
    "plt.hist(train['Location_Type'],bins=30)\n",
    "plt.ylabel('freq')\n",
    "fig1=plt.gcf()\n",
    "fig1\n",
    "sns.barplot(num_occur.index, num_occur.values, alpha=0.8, color=color[0])\n",
    "sns.distplot(train[name].dropna(),bins=30)"
   ]
  },
  {
   "cell_type": "code",
   "execution_count": null,
   "metadata": {
    "collapsed": true,
    "deletable": true,
    "editable": true
   },
   "outputs": [],
   "source": [
    "cor = train[continuous_var].corr()\n",
    "sns.heatmap(cor,vmax=1,square=True)\n",
    "plt.show()"
   ]
  },
  {
   "cell_type": "code",
   "execution_count": null,
   "metadata": {
    "collapsed": true,
    "deletable": true,
    "editable": true
   },
   "outputs": [],
   "source": [
    "#bi variate analysis continous categorical\n",
    "#Plot boxplot for all attributes\n",
    "for i in range(0,size):\n",
    "    sns.boxplot(data=dataset,x=x,y=y[i])  \n",
    "    plt.show()"
   ]
  },
  {
   "cell_type": "code",
   "execution_count": null,
   "metadata": {
    "collapsed": true,
    "deletable": true,
    "editable": true
   },
   "outputs": [],
   "source": [
    "#bi variate analysis categorical categorical\n",
    "sns.countplot(n_train['Soil_Type'])\n",
    "plt.show()\n",
    "sns.countplot(x=\"Wilderness_Area\", hue=\"Cover_Type\", data=data)\n",
    "import scipy\n",
    "scipy.stats.chi2_contingency(n_train.ix[:,0:2])"
   ]
  },
  {
   "cell_type": "code",
   "execution_count": null,
   "metadata": {
    "collapsed": true,
    "deletable": true,
    "editable": true
   },
   "outputs": [],
   "source": [
    "#bi variate analysis continuous continuous\n",
    "cor=train.ix[:,1:11].corr()\n",
    "sns.heatmap(cor,vmax=1,square=True)\n",
    "plt.show()\n",
    "sns.pairplot(dataset, hue= 'Cover_Type', x_vars = 'Aspect', y_vars = 'Hillshade_9am', size = 6)\n"
   ]
  },
  {
   "cell_type": "code",
   "execution_count": null,
   "metadata": {
    "collapsed": true,
    "deletable": true,
    "editable": true
   },
   "outputs": [],
   "source": [
    "# Akhil sir USH code\n",
    "def run_model(model,dtrain,predictor_var,target,scoring_method='mean_squared_error'):\n",
    "#For cross-validation\n",
    "    cv_method = KFold(len(dtrain),5)\n",
    "    cv_scores = cross_val_score(model,dtrain[predictor_var],dtrain[target],cv=cv_method,scoring=scoring_method)\n",
    "    print cv_scores, np.mean(cv_scores), np.sqrt((-1)*np.mean(cv_scores))\n",
    "    \n",
    "    dtrain_for_val = dtrain[dtrain['Year']<2000]\n",
    "    dtest_for_val = dtrain[dtrain['Year']>1999]\n",
    "    cv_method = KFold(len(dtrain_for_val),5)\n",
    "    cv_scores_2 = cross_val_score(model,dtrain_for_val[predictor_var],dtrain_for_val[target],cv=cv_method,scoring=scoring_method)\n",
    "    print cv_scores_2, np.mean(cv_scores_2)\n",
    "    \n",
    "    dtrain_for_val_ini = dtrain_for_val[predictor_var]\n",
    "    dtest_for_val_ini = dtest_for_val[predictor_var]\n",
    "    model.fit(dtrain_for_val_ini,dtrain_for_val[target])\n",
    "    pred_for_val = model.predict(dtest_for_val_ini)\n",
    "        \n",
    "    print math.sqrt(mean_squared_error(dtest_for_val['Footfall'],pred_for_val))\n",
    "\n",
    "def generate_csv(model,dtrain,dtest,predictor_var,target,filename): #Generation of Solution file\n",
    "    dtrain_ini = dtrain[predictor_var]\n",
    "    model.fit(dtrain_ini,dtrain[target])\n",
    "    dtest_ini = dtest[predictor_var]\n",
    "    pred = model.predict(dtest_ini)\n",
    "    test_for_sub = pd.read_csv('/Users/Akhil/Documents/Data Science/USH/test.csv')\n",
    "    test_for_sub[target] = 0\n",
    "    i = 0\n",
    "    for index,row in test_for_sub.iterrows():\n",
    "        test_for_sub.set_value(index,target,pred[i])\n",
    "        i+=1\n",
    "test_for_sub.to_csv(filename,columns=('ID',target),index=False)"
   ]
  },
  {
   "cell_type": "code",
   "execution_count": null,
   "metadata": {
    "collapsed": true,
    "deletable": true,
    "editable": true
   },
   "outputs": [],
   "source": [
    "def runXGB(train_X, train_y, test_X):\n",
    "        params = {}\n",
    "        params[\"objective\"] = \"reg:linear\"\n",
    "        params[\"eta\"] = 0.03\n",
    "        params[\"min_child_weight\"] = 10\n",
    "        params[\"subsample\"] = 0.8\n",
    "        params[\"colsample_bytree\"] = 0.7\n",
    "        params[\"silent\"] = 1\n",
    "        params[\"max_depth\"] = 10\n",
    "        #params[\"max_delta_step\"]=2\n",
    "        params[\"seed\"] = 0\n",
    "        #params['eval_metric'] = \"auc\"\n",
    "        plst = list(params.items())\n",
    "        num_rounds = 1100\n",
    "\n",
    "\txgtrain = xgb.DMatrix(train_X, label=train_y)\n",
    "\txgtest = xgb.DMatrix(test_X)\n",
    "\tmodel = xgb.train(plst, xgtrain, num_rounds)\n",
    "\tpred_test_y = model.predict(xgtest)\n",
    "return pred_test_y"
   ]
  },
  {
   "cell_type": "code",
   "execution_count": null,
   "metadata": {
    "collapsed": true
   },
   "outputs": [],
   "source": [
    "xgb = XGBRegressor( nthread=-1,  missing= -1, n_estimators=300, learning_rate=0.02, max_depth=17, subsample=0.9\n",
    "                   , min_child_weight=3, colsample_bytree=0.7, reg_alpha=100, reg_lambda=100, silent=False)\n",
    "xgb.fit(df_train[predictors], df_train['Footfall'])\n",
    "submission = pd.DataFrame({'ID':df_test.ID, 'Footfall':xgb1.predict(df_test[predictors])})\n",
    "submission.to_csv('final_solution_.csv', index=False)\n"
   ]
  },
  {
   "cell_type": "code",
   "execution_count": 6,
   "metadata": {
    "collapsed": false
   },
   "outputs": [
    {
     "data": {
      "text/plain": [
       "array([ 4.8092662 ,  4.27975224,  1.2050941 ,  4.40885162,  1.86678534,\n",
       "        4.5677216 ])"
      ]
     },
     "execution_count": 6,
     "metadata": {},
     "output_type": "execute_result"
    }
   ],
   "source": [
    "import numpy as np\n"
   ]
  },
  {
   "cell_type": "code",
   "execution_count": null,
   "metadata": {
    "collapsed": true
   },
   "outputs": [],
   "source": []
  }
 ],
 "metadata": {
  "kernelspec": {
   "display_name": "Python 2",
   "language": "python",
   "name": "python2"
  },
  "language_info": {
   "codemirror_mode": {
    "name": "ipython",
    "version": 2
   },
   "file_extension": ".py",
   "mimetype": "text/x-python",
   "name": "python",
   "nbconvert_exporter": "python",
   "pygments_lexer": "ipython2",
   "version": "2.7.12"
  }
 },
 "nbformat": 4,
 "nbformat_minor": 2
}
